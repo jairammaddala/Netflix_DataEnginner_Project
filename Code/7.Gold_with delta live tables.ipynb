{
 "cells": [
  {
   "cell_type": "code",
   "execution_count": 0,
   "metadata": {
    "application/vnd.databricks.v1+cell": {
     "cellMetadata": {},
     "inputWidgets": {},
     "nuid": "6fc1e511-9737-49a7-a2c4-07dc06597696",
     "showTitle": false,
     "tableResultSettingsMap": {},
     "title": ""
    }
   },
   "outputs": [],
   "source": [
    "from pyspark.sql.functions import *"
   ]
  },
  {
   "cell_type": "code",
   "execution_count": 0,
   "metadata": {
    "application/vnd.databricks.v1+cell": {
     "cellMetadata": {},
     "inputWidgets": {},
     "nuid": "64fad27f-856d-4e84-95bb-ef998cd7ed5e",
     "showTitle": false,
     "tableResultSettingsMap": {},
     "title": ""
    }
   },
   "outputs": [],
   "source": [
    "lookuptable_rules = {\n",
    "\n",
    "    \"rule1\" : \"show_id is not null\"\n",
    "}"
   ]
  },
  {
   "cell_type": "code",
   "execution_count": 0,
   "metadata": {
    "application/vnd.databricks.v1+cell": {
     "cellMetadata": {},
     "inputWidgets": {},
     "nuid": "5e102d77-692b-4e70-b9fe-845160bf94e5",
     "showTitle": false,
     "tableResultSettingsMap": {},
     "title": ""
    }
   },
   "outputs": [],
   "source": [
    "\n",
    "@dlt.table(\n",
    "    name= \"Gold_netflixdirectors\"\n",
    ")\n",
    "\n",
    "@dlt.expect_all_or_drop(lookuptable_rules)\n",
    "\n",
    "def my_fun():\n",
    "    df = spark.readStream.format(\"delta\").load(\"abfss://silver@jairamnetflixdatalake.dfs.core.windows.net/netflix_directors\")\n",
    "    return df"
   ]
  },
  {
   "cell_type": "code",
   "execution_count": 0,
   "metadata": {
    "application/vnd.databricks.v1+cell": {
     "cellMetadata": {},
     "inputWidgets": {},
     "nuid": "db148339-6971-49fb-8974-2ccc63c1e78e",
     "showTitle": false,
     "tableResultSettingsMap": {},
     "title": ""
    }
   },
   "outputs": [],
   "source": [
    "\n",
    "@dlt.table(\n",
    "    name= \"Gold_netflixcast\"\n",
    ")\n",
    "\n",
    "@dlt.expect_all_or_drop(lookuptable_rules)\n",
    "\n",
    "def my_fun():\n",
    "    df = spark.readStream.format(\"delta\").load(\"abfss://silver@jairamnetflixdatalake.dfs.core.windows.net/netflix_cast\")\n",
    "    return df"
   ]
  },
  {
   "cell_type": "code",
   "execution_count": 0,
   "metadata": {
    "application/vnd.databricks.v1+cell": {
     "cellMetadata": {},
     "inputWidgets": {},
     "nuid": "b7e57c5f-53a6-4d39-be61-573f00e8e954",
     "showTitle": false,
     "tableResultSettingsMap": {},
     "title": ""
    }
   },
   "outputs": [],
   "source": [
    "\n",
    "@dlt.table(\n",
    "    name= \"Gold_netflixcountries\"\n",
    ")\n",
    "\n",
    "@dlt.expect_all_or_drop(lookuptable_rules)\n",
    "\n",
    "def my_fun():\n",
    "    df = spark.readStream.format(\"delta\").load(\"abfss://silver@jairamnetflixdatalake.dfs.core.windows.net/netflix_countries\")\n",
    "    return df"
   ]
  },
  {
   "cell_type": "code",
   "execution_count": 0,
   "metadata": {
    "application/vnd.databricks.v1+cell": {
     "cellMetadata": {},
     "inputWidgets": {},
     "nuid": "184dacc6-6d2c-4ff7-b9e2-5ec8b5d611d1",
     "showTitle": false,
     "tableResultSettingsMap": {},
     "title": ""
    }
   },
   "outputs": [],
   "source": [
    "\n",
    "@dlt.table(\n",
    "    name= \"Gold_netflixcategory\"\n",
    ")\n",
    "\n",
    "@dlt.expect_all_or_drop(lookuptable_rules)\n",
    "\n",
    "def my_fun():\n",
    "    df = spark.readStream.format(\"delta\").load(\"abfss://silver@jairamnetflixdatalake.dfs.core.windows.net/netflix_category\")\n",
    "    return df"
   ]
  },
  {
   "cell_type": "code",
   "execution_count": 0,
   "metadata": {
    "application/vnd.databricks.v1+cell": {
     "cellMetadata": {},
     "inputWidgets": {},
     "nuid": "5e696356-be9d-4365-a14c-2cb34b614d13",
     "showTitle": false,
     "tableResultSettingsMap": {},
     "title": ""
    }
   },
   "outputs": [],
   "source": [
    "@dlt.table\n",
    "\n",
    "def gold_stgnetflix_titles():\n",
    "    df = spark.readStream.format(\"delta\").load(\"abfss://silver@jairamnetflixdatalake.dfs.core.windows.net/netflix_titles\")\n",
    "    return df\n",
    "\n",
    "         "
   ]
  },
  {
   "cell_type": "code",
   "execution_count": 0,
   "metadata": {
    "application/vnd.databricks.v1+cell": {
     "cellMetadata": {},
     "inputWidgets": {},
     "nuid": "95dae32b-4555-4f75-9d28-3e42234e0a52",
     "showTitle": false,
     "tableResultSettingsMap": {},
     "title": ""
    }
   },
   "outputs": [],
   "source": [
    "@dlt.view\n",
    "\n",
    "def gold_Trans_netflix_titles():\n",
    "    df = spark.readStream.table(\"Live.gold_stgnetflix_titles\")\n",
    "    df = df.withColumn(\"newflag\", lit(1))\n",
    "    return df\n"
   ]
  },
  {
   "cell_type": "code",
   "execution_count": 0,
   "metadata": {
    "application/vnd.databricks.v1+cell": {
     "cellMetadata": {},
     "inputWidgets": {},
     "nuid": "06362558-3423-4860-b126-66f127720317",
     "showTitle": false,
     "tableResultSettingsMap": {},
     "title": ""
    }
   },
   "outputs": [],
   "source": [
    "master_data_rules = {\n",
    "    \"rule1\" :\"show_id is not null\",\n",
    "    \"rule2\" : \"newflag is not null\"\n",
    "\n",
    "\n",
    "}"
   ]
  },
  {
   "cell_type": "code",
   "execution_count": 0,
   "metadata": {
    "application/vnd.databricks.v1+cell": {
     "cellMetadata": {},
     "inputWidgets": {},
     "nuid": "797efa38-a6d5-4427-b07b-4330579cf3ff",
     "showTitle": false,
     "tableResultSettingsMap": {},
     "title": ""
    }
   },
   "outputs": [],
   "source": [
    "@dlt.table\n",
    "@dlt.expect_all_or_drop(master_data_rules)\n",
    "def gold_netflix_titles():\n",
    "    df = spark.readStream.table(\"Live.gold_Trans_netflix_titles\")\n",
    "    return df\n",
    "\n"
   ]
  }
 ],
 "metadata": {
  "application/vnd.databricks.v1+notebook": {
   "computePreferences": null,
   "dashboards": [],
   "environmentMetadata": {
    "base_environment": "",
    "environment_version": "2"
   },
   "inputWidgetPreferences": null,
   "language": "python",
   "notebookMetadata": {
    "pythonIndentUnit": 4
   },
   "notebookName": "7.Gold_with delta live tables",
   "widgets": {}
  },
  "language_info": {
   "name": "python"
  }
 },
 "nbformat": 4,
 "nbformat_minor": 0
}